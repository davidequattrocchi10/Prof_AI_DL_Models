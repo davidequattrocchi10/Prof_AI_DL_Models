{
 "cells": [
  {
   "cell_type": "code",
   "execution_count": 1,
   "id": "50671628-2548-40a1-871d-d720425b2899",
   "metadata": {},
   "outputs": [
    {
     "name": "stdout",
     "output_type": "stream",
     "text": [
      "WARNING:tensorflow:From C:\\Users\\Utente\\AppData\\Local\\Temp\\ipykernel_5512\\82926019.py:7: The name tf.logging.set_verbosity is deprecated. Please use tf.compat.v1.logging.set_verbosity instead.\n",
      "\n"
     ]
    }
   ],
   "source": [
    "# No show warnings\n",
    "import warnings\n",
    "warnings.filterwarnings(\"ignore\")\n",
    "import os\n",
    "os.environ[\"TF_CPP_MIN_LOG_LEVEL\"] = \"3\"\n",
    "import tensorflow as tf\n",
    "tf.compat.v1.logging.set_verbosity(tf.compat.v1.logging.ERROR)"
   ]
  },
  {
   "cell_type": "code",
   "execution_count": 145,
   "id": "64470054-7e5e-4692-8b11-c02e34b55fa6",
   "metadata": {},
   "outputs": [],
   "source": [
    "# Import libraries standard\n",
    "import numpy as np\n",
    "import matplotlib.pyplot as plt\n",
    "\n",
    "from sklearn.model_selection import train_test_split"
   ]
  },
  {
   "cell_type": "code",
   "execution_count": 147,
   "id": "cb2f20c0-9988-4092-8a14-7343e62bb1fe",
   "metadata": {},
   "outputs": [],
   "source": [
    "# Import modules of tensorflow\n",
    "from tensorflow.keras import Sequential\n",
    "from tensorflow.keras.layers import InputLayer, Dense\n",
    "from tensorflow.keras.backend import clear_session"
   ]
  },
  {
   "cell_type": "markdown",
   "id": "f449504c-2a2b-44c6-a3a1-84fc4e7510bc",
   "metadata": {},
   "source": [
    "## Dataset"
   ]
  },
  {
   "cell_type": "code",
   "execution_count": 405,
   "id": "77da868e-52c8-4d19-ab4e-ffadba619906",
   "metadata": {},
   "outputs": [],
   "source": [
    "# Upload data from the library sklearn\n",
    "(x_train, y_train), (x_test, y_test) = tf.keras.datasets.mnist.load_data()"
   ]
  },
  {
   "cell_type": "code",
   "execution_count": 407,
   "id": "846332f8-d8dc-495b-b9e2-d7bffe70011f",
   "metadata": {},
   "outputs": [
    {
     "data": {
      "text/plain": [
       "((60000, 28, 28), (10000, 28, 28))"
      ]
     },
     "execution_count": 407,
     "metadata": {},
     "output_type": "execute_result"
    }
   ],
   "source": [
    "# Shape of features in train and test sets\n",
    "x_train.shape, x_test.shape"
   ]
  },
  {
   "cell_type": "code",
   "execution_count": 167,
   "id": "47dd077a-78c7-4e60-8647-5f5cba4483ec",
   "metadata": {},
   "outputs": [
    {
     "name": "stdout",
     "output_type": "stream",
     "text": [
      "Dimension of first image:  (28, 28)\n"
     ]
    },
    {
     "data": {
      "image/png": "[encoded data removed]",
      "text/plain": [
       "<Figure size 480x480 with 1 Axes>"
      ]
     },
     "metadata": {},
     "output_type": "display_data"
    }
   ],
   "source": [
    "# Each sample is a image (the train set has 60000 images, every one with size 28 x 28)\n",
    "print(\"Dimension of first image: \", x_train[0].shape)\n",
    "plt.matshow(x_train[0], cmap=\"Blues\")\n",
    "plt.show()"
   ]
  },
  {
   "cell_type": "code",
   "execution_count": 169,
   "id": "aeed1f6f-a068-4ab5-8c9a-fc34372bfa05",
   "metadata": {},
   "outputs": [
    {
     "data": {
      "image/png": "[encoded data removed]",
      "text/plain": [
       "<Figure size 480x480 with 1 Axes>"
      ]
     },
     "metadata": {},
     "output_type": "display_data"
    }
   ],
   "source": [
    "# Show the last sample in train set\n",
    "plt.matshow(x_train[-1], cmap=\"Blues\")\n",
    "plt.show()"
   ]
  },
  {
   "cell_type": "code",
   "execution_count": 157,
   "id": "96aec44f-be18-4b2c-9eb2-9bc9231c24b1",
   "metadata": {},
   "outputs": [
    {
     "data": {
      "text/plain": [
       "((60000,), (10000,))"
      ]
     },
     "execution_count": 157,
     "metadata": {},
     "output_type": "execute_result"
    }
   ],
   "source": [
    "# Shape of target in train and test sets\n",
    "y_train.shape, y_test.shape"
   ]
  },
  {
   "cell_type": "code",
   "execution_count": 171,
   "id": "a5fc1bd1-6056-4dc8-af5f-4b99e53ffb10",
   "metadata": {},
   "outputs": [
    {
     "name": "stdout",
     "output_type": "stream",
     "text": [
      "[0 1 2 3 4 5 6 7 8 9]\n",
      "{0, 1, 2, 3, 4, 5, 6, 7, 8, 9}\n"
     ]
    }
   ],
   "source": [
    "# See which values include y_train\n",
    "# Using numpy\n",
    "print(np.unique(y_train))\n",
    "\n",
    "# Using set()\n",
    "print(set(y_train))"
   ]
  },
  {
   "cell_type": "code",
   "execution_count": 153,
   "id": "657604ae-71b8-4175-94be-01ad6df8064b",
   "metadata": {},
   "outputs": [
    {
     "data": {
      "text/plain": [
       "(array([0, 1, 2, 3, 4, 5, 6, 7, 8, 9], dtype=uint8),\n",
       " array([5923, 6742, 5958, 6131, 5842, 5421, 5918, 6265, 5851, 5949],\n",
       "       dtype=int64))"
      ]
     },
     "execution_count": 153,
     "metadata": {},
     "output_type": "execute_result"
    }
   ],
   "source": [
    "# Distribution target in train set\n",
    "np.unique(y_train, return_counts=True)"
   ]
  },
  {
   "cell_type": "markdown",
   "id": "8e518ee5-a07b-4ee4-96e3-113c9e71dffd",
   "metadata": {},
   "source": [
    "That means class 0 has 5923 samples, class 1 has 6742 samples, and so on"
   ]
  },
  {
   "cell_type": "code",
   "execution_count": 226,
   "id": "b3d9d7a0-f620-4d95-9d12-075a06702050",
   "metadata": {},
   "outputs": [
    {
     "data": {
      "text/plain": [
       "array([[   0, 5923],\n",
       "       [   1, 6742],\n",
       "       [   2, 5958],\n",
       "       [   3, 6131],\n",
       "       [   4, 5842],\n",
       "       [   5, 5421],\n",
       "       [   6, 5918],\n",
       "       [   7, 6265],\n",
       "       [   8, 5851],\n",
       "       [   9, 5949]], dtype=int64)"
      ]
     },
     "execution_count": 226,
     "metadata": {},
     "output_type": "execute_result"
    }
   ],
   "source": [
    "# Distribution target in train set but more clear to see\n",
    "np.array(np.unique(y_train, return_counts=True)).T      # T --> means transposed"
   ]
  },
  {
   "cell_type": "code",
   "execution_count": 155,
   "id": "c1058370-6679-4880-80ce-b0d650a479ff",
   "metadata": {},
   "outputs": [
    {
     "data": {
      "text/plain": [
       "(array([0, 1, 2, 3, 4, 5, 6, 7, 8, 9], dtype=uint8),\n",
       " array([ 980, 1135, 1032, 1010,  982,  892,  958, 1028,  974, 1009],\n",
       "       dtype=int64))"
      ]
     },
     "execution_count": 155,
     "metadata": {},
     "output_type": "execute_result"
    }
   ],
   "source": [
    "# Distribution target in test set\n",
    "np.unique(y_test, return_counts=True)"
   ]
  },
  {
   "cell_type": "markdown",
   "id": "e560deb6-2ddb-488f-ada7-4962e3066669",
   "metadata": {},
   "source": [
    "## Preprocessing"
   ]
  },
  {
   "cell_type": "code",
   "execution_count": 174,
   "id": "4e66b2cf-01a8-4f43-b948-09412bc497f7",
   "metadata": {},
   "outputs": [
    {
     "data": {
      "text/plain": [
       "(28, 28)"
      ]
     },
     "execution_count": 174,
     "metadata": {},
     "output_type": "execute_result"
    }
   ],
   "source": [
    "# Each image is 28 x 28 \n",
    "img_sample = x_train[0]\n",
    "img_sample.shape"
   ]
  },
  {
   "cell_type": "code",
   "execution_count": 184,
   "id": "9f3925b3-9606-493e-bb73-90f94cf277f4",
   "metadata": {},
   "outputs": [
    {
     "data": {
      "text/plain": [
       "(1, 784)"
      ]
     },
     "execution_count": 184,
     "metadata": {},
     "output_type": "execute_result"
    }
   ],
   "source": [
    "# We can change the matrix without lost information\n",
    "img_flat = np.reshape(img_sample, (1, 784))\n",
    "img_flat.shape"
   ]
  },
  {
   "cell_type": "code",
   "execution_count": 188,
   "id": "df6b9505-7afb-40ac-9a7a-8c1f3a79148c",
   "metadata": {},
   "outputs": [
    {
     "data": {
      "text/plain": [
       "(28, 28)"
      ]
     },
     "execution_count": 188,
     "metadata": {},
     "output_type": "execute_result"
    }
   ],
   "source": [
    "# We can recover the previous format\n",
    "img_recover = np.reshape(img_flat, (28, 28))\n",
    "img_recover.shape"
   ]
  },
  {
   "cell_type": "code",
   "execution_count": 196,
   "id": "e288e771-15b5-47dd-beea-75e6cb29ed42",
   "metadata": {},
   "outputs": [
    {
     "data": {
      "image/png": "[encoded data removed]",
      "text/plain": [
       "<Figure size 480x480 with 1 Axes>"
      ]
     },
     "metadata": {},
     "output_type": "display_data"
    }
   ],
   "source": [
    "# We have the same image \n",
    "plt.matshow(img_recover, cmap=\"Blues\")\n",
    "plt.show()"
   ]
  },
  {
   "cell_type": "code",
   "execution_count": 206,
   "id": "c42994d1-48c3-47d3-b301-470a13a98eba",
   "metadata": {},
   "outputs": [
    {
     "data": {
      "text/plain": [
       "(60000, 784)"
      ]
     },
     "execution_count": 206,
     "metadata": {},
     "output_type": "execute_result"
    }
   ],
   "source": [
    "# Modify all train set\n",
    "x_train_flat = np.reshape(x_train, (60000, 28*28))\n",
    "x_train_flat.shape"
   ]
  },
  {
   "cell_type": "code",
   "execution_count": 208,
   "id": "eb8a61c3-43af-4d65-8961-ac3e4cc6791a",
   "metadata": {},
   "outputs": [
    {
     "data": {
      "text/plain": [
       "(10000, 784)"
      ]
     },
     "execution_count": 208,
     "metadata": {},
     "output_type": "execute_result"
    }
   ],
   "source": [
    "# Modify all test set\n",
    "x_test_flat = np.reshape(x_test, (10000, 28*28))\n",
    "x_test_flat.shape"
   ]
  },
  {
   "cell_type": "code",
   "execution_count": 212,
   "id": "3ed694e6-17bc-489f-9e58-e1ea7b6ddf80",
   "metadata": {},
   "outputs": [],
   "source": [
    "# Apply normalization\n",
    "x_train_flat = x_train_flat / 255\n",
    "x_test_flat = x_test_flat / 255"
   ]
  },
  {
   "cell_type": "code",
   "execution_count": 224,
   "id": "26f043e1-33bb-47ab-9c63-a165a5191f10",
   "metadata": {},
   "outputs": [
    {
     "name": "stdout",
     "output_type": "stream",
     "text": [
      "Max value: 1.0 \n",
      "Min value: 0.0\n"
     ]
    }
   ],
   "source": [
    "print(f\"Max value: {x_train_flat.max()} \\nMin value: {x_train_flat.min()}\")"
   ]
  },
  {
   "cell_type": "markdown",
   "id": "66d7746a-03d5-48d0-82e7-3c2664567bf2",
   "metadata": {},
   "source": [
    "## Sequential model with Keras"
   ]
  },
  {
   "cell_type": "code",
   "execution_count": 244,
   "id": "0b02d682-6023-4708-9198-b5a1d67c5508",
   "metadata": {},
   "outputs": [],
   "source": [
    "# Create a function to create Sequential model (in this case a Multi-Layer Perceptron) \n",
    "def get_mnist_model():\n",
    "    model = Sequential()\n",
    "    model.add(InputLayer(input_shape = (784,)))\n",
    "    model.add(Dense(units=500, activation=\"relu\")) # Dense -> fully connected layer (Every neuron in one layer is connected to every neuron in the next layer\n",
    "    model.add(Dense(units=400, activation=\"relu\"))\n",
    "    model.add(Dense(units=10, activation=\"softmax\"))\n",
    "    model.compile(loss=\"sparse_categorical_crossentropy\", metrics=[\"accuracy\"])\n",
    "    return model"
   ]
  },
  {
   "cell_type": "code",
   "execution_count": 246,
   "id": "b4ab025a-38fd-4538-aa1e-5d3a5a70e9e5",
   "metadata": {},
   "outputs": [],
   "source": [
    "# frees up memory used by TensorFlow and resets the Keras backend.\n",
    "clear_session()"
   ]
  },
  {
   "cell_type": "code",
   "execution_count": 248,
   "id": "7dc7deae-64de-432d-8130-151b8c3be56e",
   "metadata": {},
   "outputs": [
    {
     "data": {
      "text/html": [
       "<pre style=\"white-space:pre;overflow-x:auto;line-height:normal;font-family:Menlo,'DejaVu Sans Mono',consolas,'Courier New',monospace\"><span style=\"font-weight: bold\">Model: \"sequential\"</span>\n",
       "</pre>\n"
      ],
      "text/plain": [
       "\u001b[1mModel: \"sequential\"\u001b[0m\n"
      ]
     },
     "metadata": {},
     "output_type": "display_data"
    },
    {
     "data": {
      "text/html": [
       "<pre style=\"white-space:pre;overflow-x:auto;line-height:normal;font-family:Menlo,'DejaVu Sans Mono',consolas,'Courier New',monospace\">┏━━━━━━━━━━━━━━━━━━━━━━━━━━━━━━━━━┳━━━━━━━━━━━━━━━━━━━━━━━━┳━━━━━━━━━━━━━━━┓\n",
       "┃<span style=\"font-weight: bold\"> Layer (type)                    </span>┃<span style=\"font-weight: bold\"> Output Shape           </span>┃<span style=\"font-weight: bold\">       Param # </span>┃\n",
       "┡━━━━━━━━━━━━━━━━━━━━━━━━━━━━━━━━━╇━━━━━━━━━━━━━━━━━━━━━━━━╇━━━━━━━━━━━━━━━┩\n",
       "│ dense (<span style=\"color: #0087ff; text-decoration-color: #0087ff\">Dense</span>)                   │ (<span style=\"color: #00d7ff; text-decoration-color: #00d7ff\">None</span>, <span style=\"color: #00af00; text-decoration-color: #00af00\">500</span>)            │       <span style=\"color: #00af00; text-decoration-color: #00af00\">392,500</span> │\n",
       "├─────────────────────────────────┼────────────────────────┼───────────────┤\n",
       "│ dense_1 (<span style=\"color: #0087ff; text-decoration-color: #0087ff\">Dense</span>)                 │ (<span style=\"color: #00d7ff; text-decoration-color: #00d7ff\">None</span>, <span style=\"color: #00af00; text-decoration-color: #00af00\">400</span>)            │       <span style=\"color: #00af00; text-decoration-color: #00af00\">200,400</span> │\n",
       "├─────────────────────────────────┼────────────────────────┼───────────────┤\n",
       "│ dense_2 (<span style=\"color: #0087ff; text-decoration-color: #0087ff\">Dense</span>)                 │ (<span style=\"color: #00d7ff; text-decoration-color: #00d7ff\">None</span>, <span style=\"color: #00af00; text-decoration-color: #00af00\">10</span>)             │         <span style=\"color: #00af00; text-decoration-color: #00af00\">4,010</span> │\n",
       "└─────────────────────────────────┴────────────────────────┴───────────────┘\n",
       "</pre>\n"
      ],
      "text/plain": [
       "┏━━━━━━━━━━━━━━━━━━━━━━━━━━━━━━━━━┳━━━━━━━━━━━━━━━━━━━━━━━━┳━━━━━━━━━━━━━━━┓\n",
       "┃\u001b[1m \u001b[0m\u001b[1mLayer (type)                   \u001b[0m\u001b[1m \u001b[0m┃\u001b[1m \u001b[0m\u001b[1mOutput Shape          \u001b[0m\u001b[1m \u001b[0m┃\u001b[1m \u001b[0m\u001b[1m      Param #\u001b[0m\u001b[1m \u001b[0m┃\n",
       "┡━━━━━━━━━━━━━━━━━━━━━━━━━━━━━━━━━╇━━━━━━━━━━━━━━━━━━━━━━━━╇━━━━━━━━━━━━━━━┩\n",
       "│ dense (\u001b[38;5;33mDense\u001b[0m)                   │ (\u001b[38;5;45mNone\u001b[0m, \u001b[38;5;34m500\u001b[0m)            │       \u001b[38;5;34m392,500\u001b[0m │\n",
       "├─────────────────────────────────┼────────────────────────┼───────────────┤\n",
       "│ dense_1 (\u001b[38;5;33mDense\u001b[0m)                 │ (\u001b[38;5;45mNone\u001b[0m, \u001b[38;5;34m400\u001b[0m)            │       \u001b[38;5;34m200,400\u001b[0m │\n",
       "├─────────────────────────────────┼────────────────────────┼───────────────┤\n",
       "│ dense_2 (\u001b[38;5;33mDense\u001b[0m)                 │ (\u001b[38;5;45mNone\u001b[0m, \u001b[38;5;34m10\u001b[0m)             │         \u001b[38;5;34m4,010\u001b[0m │\n",
       "└─────────────────────────────────┴────────────────────────┴───────────────┘\n"
      ]
     },
     "metadata": {},
     "output_type": "display_data"
    },
    {
     "data": {
      "text/html": [
       "<pre style=\"white-space:pre;overflow-x:auto;line-height:normal;font-family:Menlo,'DejaVu Sans Mono',consolas,'Courier New',monospace\"><span style=\"font-weight: bold\"> Total params: </span><span style=\"color: #00af00; text-decoration-color: #00af00\">596,910</span> (2.28 MB)\n",
       "</pre>\n"
      ],
      "text/plain": [
       "\u001b[1m Total params: \u001b[0m\u001b[38;5;34m596,910\u001b[0m (2.28 MB)\n"
      ]
     },
     "metadata": {},
     "output_type": "display_data"
    },
    {
     "data": {
      "text/html": [
       "<pre style=\"white-space:pre;overflow-x:auto;line-height:normal;font-family:Menlo,'DejaVu Sans Mono',consolas,'Courier New',monospace\"><span style=\"font-weight: bold\"> Trainable params: </span><span style=\"color: #00af00; text-decoration-color: #00af00\">596,910</span> (2.28 MB)\n",
       "</pre>\n"
      ],
      "text/plain": [
       "\u001b[1m Trainable params: \u001b[0m\u001b[38;5;34m596,910\u001b[0m (2.28 MB)\n"
      ]
     },
     "metadata": {},
     "output_type": "display_data"
    },
    {
     "data": {
      "text/html": [
       "<pre style=\"white-space:pre;overflow-x:auto;line-height:normal;font-family:Menlo,'DejaVu Sans Mono',consolas,'Courier New',monospace\"><span style=\"font-weight: bold\"> Non-trainable params: </span><span style=\"color: #00af00; text-decoration-color: #00af00\">0</span> (0.00 B)\n",
       "</pre>\n"
      ],
      "text/plain": [
       "\u001b[1m Non-trainable params: \u001b[0m\u001b[38;5;34m0\u001b[0m (0.00 B)\n"
      ]
     },
     "metadata": {},
     "output_type": "display_data"
    }
   ],
   "source": [
    "# Create the model\n",
    "model = get_mnist_model()\n",
    "model.summary()"
   ]
  },
  {
   "cell_type": "markdown",
   "id": "00385f09-106c-4f74-a0b9-8e3dde1de5dc",
   "metadata": {},
   "source": [
    "## Training"
   ]
  },
  {
   "cell_type": "code",
   "execution_count": 250,
   "id": "6075d39b-c9fe-4618-8acd-be282d7a3f90",
   "metadata": {},
   "outputs": [
    {
     "name": "stdout",
     "output_type": "stream",
     "text": [
      "Epoch 1/10\n",
      "\u001b[1m1875/1875\u001b[0m \u001b[32m━━━━━━━━━━━━━━━━━━━━\u001b[0m\u001b[37m\u001b[0m \u001b[1m23s\u001b[0m 12ms/step - accuracy: 0.9030 - loss: 0.3114 - val_accuracy: 0.9706 - val_loss: 0.0949\n",
      "Epoch 2/10\n",
      "\u001b[1m1875/1875\u001b[0m \u001b[32m━━━━━━━━━━━━━━━━━━━━\u001b[0m\u001b[37m\u001b[0m \u001b[1m40s\u001b[0m 11ms/step - accuracy: 0.9752 - loss: 0.0853 - val_accuracy: 0.9765 - val_loss: 0.0800\n",
      "Epoch 3/10\n",
      "\u001b[1m1875/1875\u001b[0m \u001b[32m━━━━━━━━━━━━━━━━━━━━\u001b[0m\u001b[37m\u001b[0m \u001b[1m37s\u001b[0m 9ms/step - accuracy: 0.9827 - loss: 0.0611 - val_accuracy: 0.9757 - val_loss: 0.0944\n",
      "Epoch 4/10\n",
      "\u001b[1m1875/1875\u001b[0m \u001b[32m━━━━━━━━━━━━━━━━━━━━\u001b[0m\u001b[37m\u001b[0m \u001b[1m25s\u001b[0m 11ms/step - accuracy: 0.9876 - loss: 0.0463 - val_accuracy: 0.9809 - val_loss: 0.0831\n",
      "Epoch 5/10\n",
      "\u001b[1m1875/1875\u001b[0m \u001b[32m━━━━━━━━━━━━━━━━━━━━\u001b[0m\u001b[37m\u001b[0m \u001b[1m22s\u001b[0m 12ms/step - accuracy: 0.9904 - loss: 0.0350 - val_accuracy: 0.9805 - val_loss: 0.1017\n",
      "Epoch 6/10\n",
      "\u001b[1m1875/1875\u001b[0m \u001b[32m━━━━━━━━━━━━━━━━━━━━\u001b[0m\u001b[37m\u001b[0m \u001b[1m18s\u001b[0m 10ms/step - accuracy: 0.9914 - loss: 0.0279 - val_accuracy: 0.9822 - val_loss: 0.0904\n",
      "Epoch 7/10\n",
      "\u001b[1m1875/1875\u001b[0m \u001b[32m━━━━━━━━━━━━━━━━━━━━\u001b[0m\u001b[37m\u001b[0m \u001b[1m19s\u001b[0m 9ms/step - accuracy: 0.9937 - loss: 0.0222 - val_accuracy: 0.9834 - val_loss: 0.0864\n",
      "Epoch 8/10\n",
      "\u001b[1m1875/1875\u001b[0m \u001b[32m━━━━━━━━━━━━━━━━━━━━\u001b[0m\u001b[37m\u001b[0m \u001b[1m16s\u001b[0m 9ms/step - accuracy: 0.9952 - loss: 0.0175 - val_accuracy: 0.9827 - val_loss: 0.1045\n",
      "Epoch 9/10\n",
      "\u001b[1m1875/1875\u001b[0m \u001b[32m━━━━━━━━━━━━━━━━━━━━\u001b[0m\u001b[37m\u001b[0m \u001b[1m21s\u001b[0m 9ms/step - accuracy: 0.9953 - loss: 0.0191 - val_accuracy: 0.9801 - val_loss: 0.1193\n",
      "Epoch 10/10\n",
      "\u001b[1m1875/1875\u001b[0m \u001b[32m━━━━━━━━━━━━━━━━━━━━\u001b[0m\u001b[37m\u001b[0m \u001b[1m21s\u001b[0m 9ms/step - accuracy: 0.9962 - loss: 0.0134 - val_accuracy: 0.9835 - val_loss: 0.1042\n"
     ]
    }
   ],
   "source": [
    "# Train the model \n",
    "# epochs = the entire dataset is passed through the model 10 times, batch_size = 32 samples are processed at a time before updating weights\n",
    "hist = model.fit(x_train_flat, y_train, epochs=10, verbose=1, batch_size=32, \\\n",
    "          validation_data=(x_test_flat, y_test))"
   ]
  },
  {
   "cell_type": "code",
   "execution_count": 264,
   "id": "0b706753-7c64-4c15-9670-67a0a3ce30f9",
   "metadata": {},
   "outputs": [
    {
     "data": {
      "text/plain": [
       "{'accuracy': [0.9420666694641113,\n",
       "  0.975600004196167,\n",
       "  0.982616662979126,\n",
       "  0.9869333505630493,\n",
       "  0.9898333549499512,\n",
       "  0.9912166595458984,\n",
       "  0.9927666783332825,\n",
       "  0.994616687297821,\n",
       "  0.9951500296592712,\n",
       "  0.996150016784668],\n",
       " 'loss': [0.1890336126089096,\n",
       "  0.08611758798360825,\n",
       "  0.06267422437667847,\n",
       "  0.048804979771375656,\n",
       "  0.038263335824012756,\n",
       "  0.03031434305012226,\n",
       "  0.026584500446915627,\n",
       "  0.020042046904563904,\n",
       "  0.01759929396212101,\n",
       "  0.014263688586652279],\n",
       " 'val_accuracy': [0.9706000089645386,\n",
       "  0.9764999747276306,\n",
       "  0.9757000207901001,\n",
       "  0.98089998960495,\n",
       "  0.9804999828338623,\n",
       "  0.982200026512146,\n",
       "  0.9833999872207642,\n",
       "  0.982699990272522,\n",
       "  0.9800999760627747,\n",
       "  0.9835000038146973],\n",
       " 'val_loss': [0.09490440785884857,\n",
       "  0.07995537668466568,\n",
       "  0.09440291672945023,\n",
       "  0.08306285738945007,\n",
       "  0.10166063904762268,\n",
       "  0.0904119610786438,\n",
       "  0.08644601702690125,\n",
       "  0.10453376173973083,\n",
       "  0.11925680935382843,\n",
       "  0.10417142510414124]}"
      ]
     },
     "execution_count": 264,
     "metadata": {},
     "output_type": "execute_result"
    }
   ],
   "source": [
    "# Object hist\n",
    "hist.history"
   ]
  },
  {
   "cell_type": "code",
   "execution_count": 266,
   "id": "e22b6808-fe6f-4a48-806b-500cfbe69d9f",
   "metadata": {},
   "outputs": [
    {
     "data": {
      "image/png": "[encoded data removed]",
      "text/plain": [
       "<Figure size 1200x400 with 2 Axes>"
      ]
     },
     "metadata": {},
     "output_type": "display_data"
    }
   ],
   "source": [
    "# Create a new figure for the plots\n",
    "plt.figure(figsize=(12, 4))\n",
    "\n",
    "# First subplot\n",
    "plt.subplot(1,2,1)\n",
    "plt.plot(hist.history[\"loss\"], label=[\"loss\"])\n",
    "plt.plot(hist.history[\"accuracy\"], label=[\"accuracy\"])\n",
    "plt.legend()\n",
    "plt.title(\"Train\")\n",
    "\n",
    "# Second subplot\n",
    "plt.subplot(1,2,2)\n",
    "plt.plot(hist.history[\"val_loss\"], label=[\"val_loss\"])\n",
    "plt.plot(hist.history[\"val_accuracy\"], label=[\"val_accuracy\"])\n",
    "plt.legend()\n",
    "plt.title(\"Test\");"
   ]
  },
  {
   "cell_type": "markdown",
   "id": "18b37c5a-4580-4c7c-b17b-f07fef284f4a",
   "metadata": {},
   "source": [
    "The accuracy is near to 1 and the loss (error) is near to 0, that means our model works well."
   ]
  },
  {
   "cell_type": "markdown",
   "id": "e88209d2-6c4c-4012-b761-4ace57cade35",
   "metadata": {},
   "source": [
    "## Try now to create a binary classifier"
   ]
  },
  {
   "cell_type": "code",
   "execution_count": 291,
   "id": "1d26edeb-8f1b-4b1a-9a0a-66b998dcf90d",
   "metadata": {},
   "outputs": [
    {
     "name": "stdout",
     "output_type": "stream",
     "text": [
      "Values in the target before {0, 1, 2, 3, 4, 5, 6, 7, 8, 9}\n",
      "Values in the target aftet (0 represents even numbers, 1 represents odd numbers) \n",
      " {0, 1}\n"
     ]
    }
   ],
   "source": [
    "# Modify y_train and y_test to have only two values (0, 1)\n",
    "print(\"Values in the target before\", set(y_train))\n",
    "\n",
    "y_train_bin = y_train % 2\n",
    "y_test_bin = y_test % 2\n",
    "\n",
    "print(\"Values in the target aftet (0 represents even numbers, 1 represents odd numbers) \\n\", set(y_train_bin))"
   ]
  },
  {
   "cell_type": "markdown",
   "id": "58543913-e6db-4277-a4b9-ac2f0d49c183",
   "metadata": {},
   "source": [
    "## Sequential Model with only two neurons in output"
   ]
  },
  {
   "cell_type": "code",
   "execution_count": 294,
   "id": "036e0584-6b92-4381-9962-2e3eff353ded",
   "metadata": {},
   "outputs": [],
   "source": [
    "# Create the function for neural networks\n",
    "def get_seq_model():\n",
    "    seq_model = Sequential()\n",
    "    seq_model.add(InputLayer(input_shape = (784,)))\n",
    "    seq_model.add(Dense(units=500, activation=\"relu\"))\n",
    "    seq_model.add(Dense(units=500, activation=\"relu\"))\n",
    "    seq_model.add(Dense(units=2, activation=\"softmax\"))\n",
    "    seq_model.compile(loss=\"sparse_categorical_crossentropy\", metrics=[\"accuracy\"])\n",
    "    return seq_model"
   ]
  },
  {
   "cell_type": "code",
   "execution_count": 308,
   "id": "f2544b08-7e68-462d-9566-b071d651ace0",
   "metadata": {},
   "outputs": [],
   "source": [
    "clear_session()"
   ]
  },
  {
   "cell_type": "code",
   "execution_count": 309,
   "id": "314a866b-6497-452f-ba11-010469bfdd33",
   "metadata": {},
   "outputs": [],
   "source": [
    "# Create the model\n",
    "seq_model = get_seq_model()"
   ]
  },
  {
   "cell_type": "code",
   "execution_count": 312,
   "id": "4332d70c-85de-4b85-a05e-b3771a33303e",
   "metadata": {},
   "outputs": [
    {
     "name": "stdout",
     "output_type": "stream",
     "text": [
      "Epoch 1/2\n",
      "\u001b[1m1875/1875\u001b[0m \u001b[32m━━━━━━━━━━━━━━━━━━━━\u001b[0m\u001b[37m\u001b[0m \u001b[1m21s\u001b[0m 10ms/step - accuracy: 0.9409 - loss: 0.1537 - val_accuracy: 0.9820 - val_loss: 0.0545\n",
      "Epoch 2/2\n",
      "\u001b[1m1875/1875\u001b[0m \u001b[32m━━━━━━━━━━━━━━━━━━━━\u001b[0m\u001b[37m\u001b[0m \u001b[1m16s\u001b[0m 9ms/step - accuracy: 0.9852 - loss: 0.0490 - val_accuracy: 0.9842 - val_loss: 0.0492\n"
     ]
    },
    {
     "data": {
      "text/plain": [
       "<keras.src.callbacks.history.History at 0x21771dc2d20>"
      ]
     },
     "execution_count": 312,
     "metadata": {},
     "output_type": "execute_result"
    }
   ],
   "source": [
    "# Train the model\n",
    "# The validation_data allow to evaluate at the end of each epoch the model\n",
    "# The model does NOT update weights using validation data (it’s just for checking performance).\n",
    "seq_model.fit(x_train_flat, y_train_bin, epochs=2, \\\n",
    "              validation_data=(x_test_flat, y_test_bin))"
   ]
  },
  {
   "cell_type": "code",
   "execution_count": 313,
   "id": "e0287ebe-aa62-49a5-8f98-5bc57dc0f578",
   "metadata": {},
   "outputs": [
    {
     "name": "stdout",
     "output_type": "stream",
     "text": [
      "\u001b[1m313/313\u001b[0m \u001b[32m━━━━━━━━━━━━━━━━━━━━\u001b[0m\u001b[37m\u001b[0m \u001b[1m1s\u001b[0m 3ms/step - accuracy: 0.9828 - loss: 0.0510\n"
     ]
    },
    {
     "data": {
      "text/plain": [
       "[0.04921400919556618, 0.9842000007629395]"
      ]
     },
     "execution_count": 313,
     "metadata": {},
     "output_type": "execute_result"
    }
   ],
   "source": [
    "# Calculates loss and accuracy on the test set AFTER training is complete\n",
    "seq_model.evaluate(x_test_flat, y_test_bin)"
   ]
  },
  {
   "cell_type": "markdown",
   "id": "52a64010-c1cf-447e-966c-d8647f4a730e",
   "metadata": {},
   "source": [
    "## Principal Component Analysis"
   ]
  },
  {
   "cell_type": "code",
   "execution_count": 409,
   "id": "7abba2b4-7c9f-4a72-a70f-9a96243423eb",
   "metadata": {},
   "outputs": [],
   "source": [
    "# Import module\n",
    "from sklearn.decomposition import PCA"
   ]
  },
  {
   "cell_type": "code",
   "execution_count": 411,
   "id": "9b16beea-8a7a-4cbd-98f4-5c69917ac282",
   "metadata": {},
   "outputs": [],
   "source": [
    "# Take only the first 100 images\n",
    "x_train_pca = x_train[:100]\n",
    "y_train_pca = y_train[:100]"
   ]
  },
  {
   "cell_type": "code",
   "execution_count": 413,
   "id": "dca379dc-08a5-4e81-abfe-d8e0fe45fe93",
   "metadata": {},
   "outputs": [
    {
     "data": {
      "text/plain": [
       "(100, 28, 28)"
      ]
     },
     "execution_count": 413,
     "metadata": {},
     "output_type": "execute_result"
    }
   ],
   "source": [
    "x_train_pca.shape"
   ]
  },
  {
   "cell_type": "code",
   "execution_count": 415,
   "id": "2d3ab1c4-739e-4abc-8d1b-9b8f9f05f1e7",
   "metadata": {},
   "outputs": [],
   "source": [
    "# Reshape the images to have only two dimensions\n",
    "x_train_pca = np.reshape(x_train_pca, (100, 784))"
   ]
  },
  {
   "cell_type": "code",
   "execution_count": 417,
   "id": "7e22af79-c458-4dfe-9e8f-88133dc36289",
   "metadata": {},
   "outputs": [
    {
     "data": {
      "text/plain": [
       "(100, 784)"
      ]
     },
     "execution_count": 417,
     "metadata": {},
     "output_type": "execute_result"
    }
   ],
   "source": [
    "x_train_pca.shape"
   ]
  },
  {
   "cell_type": "code",
   "execution_count": 419,
   "id": "72dbf094-bcbf-4dfa-90db-ca7b69cce279",
   "metadata": {},
   "outputs": [],
   "source": [
    "# Execute PCA\n",
    "pca = PCA(n_components=2)\n",
    "x_pca = pca.fit_transform(x_train_pca)"
   ]
  },
  {
   "cell_type": "code",
   "execution_count": 421,
   "id": "ac7a1701-6f6e-465a-a334-5a38301777ec",
   "metadata": {},
   "outputs": [
    {
     "data": {
      "image/png": "[encoded data removed]",
      "text/plain": [
       "<Figure size 1000x800 with 2 Axes>"
      ]
     },
     "metadata": {},
     "output_type": "display_data"
    }
   ],
   "source": [
    "# Create the graph to represent these 100 images in the 2D space\n",
    "plt.figure(figsize=(10, 8))\n",
    "plt.scatter(x_pca[:, 0], x_pca[:, 1], c=y_train_pca.astype(int), edgecolor='none', alpha=0.5, cmap=plt.cm.get_cmap('viridis', 10))\n",
    "plt.xlabel('Principal component 1')\n",
    "plt.ylabel('Principal component 2')\n",
    "plt.colorbar(label='Number')\n",
    "plt.title('Visualize MNIST 2D with PCA (First 100 Images)')\n",
    "plt.show()"
   ]
  }
 ],
 "metadata": {
  "kernelspec": {
   "display_name": "Python 3 (ipykernel)",
   "language": "python",
   "name": "python3"
  },
  "language_info": {
   "codemirror_mode": {
    "name": "ipython",
    "version": 3
   },
   "file_extension": ".py",
   "mimetype": "text/x-python",
   "name": "python",
   "nbconvert_exporter": "python",
   "pygments_lexer": "ipython3",
   "version": "3.12.4"
  }
 },
 "nbformat": 4,
 "nbformat_minor": 5
}
